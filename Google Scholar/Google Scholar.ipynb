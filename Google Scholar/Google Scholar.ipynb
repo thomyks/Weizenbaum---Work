{
 "cells": [
  {
   "cell_type": "markdown",
   "metadata": {},
   "source": [
    "Google Scholar and Semantic Scholar scraping. "
   ]
  },
  {
   "cell_type": "code",
   "execution_count": 1,
   "metadata": {},
   "outputs": [],
   "source": [
    "# Packages\n",
    "from bs4 import BeautifulSoup\n",
    "import requests\n",
    "import pandas as pd\n",
    "import regex as re\n",
    "\n",
    "\n",
    "# Request to Google Scholar\n",
    "url = 'https://scholar.google.com/scholar?hl=en&as_sdt=0%2C5&q={Computational+Propaganda}&btnG='\n",
    "response=requests.get(url)\n",
    "\n",
    "# Parse the HTML content\n",
    "soup=BeautifulSoup(response.content,'html.parser')"
   ]
  },
  {
   "cell_type": "code",
   "execution_count": 2,
   "metadata": {},
   "outputs": [],
   "source": [
    "results = []\n",
    "# Get the title of the article\n",
    "for entry in soup.find_all(\"h2\", attrs={\"class\": \"gs_rt\"}):\n",
    "    results.append({\"title\": entry.a.text})    \n",
    "dataframe1 = pd.DataFrame(results)"
   ]
  },
  {
   "cell_type": "code",
   "execution_count": 3,
   "metadata": {},
   "outputs": [
    {
     "data": {
      "text/html": [
       "<div>\n",
       "<style scoped>\n",
       "    .dataframe tbody tr th:only-of-type {\n",
       "        vertical-align: middle;\n",
       "    }\n",
       "\n",
       "    .dataframe tbody tr th {\n",
       "        vertical-align: top;\n",
       "    }\n",
       "\n",
       "    .dataframe thead th {\n",
       "        text-align: right;\n",
       "    }\n",
       "</style>\n",
       "<table border=\"1\" class=\"dataframe\">\n",
       "  <thead>\n",
       "    <tr style=\"text-align: right;\">\n",
       "      <th></th>\n",
       "      <th>author</th>\n",
       "      <th>year</th>\n",
       "      <th>journal</th>\n",
       "    </tr>\n",
       "  </thead>\n",
       "  <tbody>\n",
       "    <tr>\n",
       "      <th>0</th>\n",
       "      <td>SC Woolley, P Howard</td>\n",
       "      <td>2017</td>\n",
       "      <td>ora.ox.ac.uk</td>\n",
       "    </tr>\n",
       "    <tr>\n",
       "      <th>1</th>\n",
       "      <td>GDS Martino, S Cresci, A Barrón-Cedeño, S Yu…</td>\n",
       "      <td>2020</td>\n",
       "      <td>arxiv.org</td>\n",
       "    </tr>\n",
       "    <tr>\n",
       "      <th>2</th>\n",
       "      <td>LMN Neudert</td>\n",
       "      <td>2017</td>\n",
       "      <td>demtech.oii.ox.ac.uk</td>\n",
       "    </tr>\n",
       "    <tr>\n",
       "      <th>3</th>\n",
       "      <td>SC Woolley, PN Howard</td>\n",
       "      <td>2016</td>\n",
       "      <td>par.nsf.gov</td>\n",
       "    </tr>\n",
       "    <tr>\n",
       "      <th>4</th>\n",
       "      <td>SC Woolley, PN Howard</td>\n",
       "      <td>2018</td>\n",
       "      <td>books.google.com</td>\n",
       "    </tr>\n",
       "    <tr>\n",
       "      <th>5</th>\n",
       "      <td>SC Woolley, D Guilbeault</td>\n",
       "      <td>2017</td>\n",
       "      <td>ora.ox.ac.uk</td>\n",
       "    </tr>\n",
       "    <tr>\n",
       "      <th>6</th>\n",
       "      <td>D Arnaudo</td>\n",
       "      <td>2017</td>\n",
       "      <td>ora.ox.ac.uk</td>\n",
       "    </tr>\n",
       "    <tr>\n",
       "      <th>7</th>\n",
       "      <td>G Bolsover, P Howard</td>\n",
       "      <td>2017</td>\n",
       "      <td>liebertpub.com</td>\n",
       "    </tr>\n",
       "    <tr>\n",
       "      <th>8</th>\n",
       "      <td>S Sanovich</td>\n",
       "      <td>2017</td>\n",
       "      <td>ora.ox.ac.uk</td>\n",
       "    </tr>\n",
       "    <tr>\n",
       "      <th>9</th>\n",
       "      <td>R DiResta</td>\n",
       "      <td>2018</td>\n",
       "      <td>muse.jhu.edu</td>\n",
       "    </tr>\n",
       "  </tbody>\n",
       "</table>\n",
       "</div>"
      ],
      "text/plain": [
       "                                           author  year                journal\n",
       "0                           SC Woolley, P Howard   2017           ora.ox.ac.uk\n",
       "1  GDS Martino, S Cresci, A Barrón-Cedeño, S Yu…   2020              arxiv.org\n",
       "2                                    LMN Neudert   2017   demtech.oii.ox.ac.uk\n",
       "3                          SC Woolley, PN Howard   2016            par.nsf.gov\n",
       "4                          SC Woolley, PN Howard   2018       books.google.com\n",
       "5                       SC Woolley, D Guilbeault   2017           ora.ox.ac.uk\n",
       "6                                      D Arnaudo   2017           ora.ox.ac.uk\n",
       "7                           G Bolsover, P Howard   2017         liebertpub.com\n",
       "8                                     S Sanovich   2017           ora.ox.ac.uk\n",
       "9                                      R DiResta   2018           muse.jhu.edu"
      ]
     },
     "execution_count": 3,
     "metadata": {},
     "output_type": "execute_result"
    }
   ],
   "source": [
    "# Get Authors, year, journal\n",
    "results2 = []\n",
    "for entry2 in soup.find_all(\"div\", attrs={\"class\": \"gs_a\"}):\n",
    "    year = re.findall('[0-9]+', entry2.text)\n",
    "    journal = re.findall('[^-]+$', entry2.text)\n",
    "    authors = re.findall('(^(.+?) - )', entry2.text)\n",
    "    results2.append({\"authors\": authors, \"year\": year, \"journal\": journal})\n",
    "dataframe2 = pd.DataFrame(results2)\n",
    "dataframe2\n",
    "# Clean the data\n",
    "dataframe2['authors'] = dataframe2['authors'].str.get(0)\n",
    "dataframe2['authors'] = dataframe2['authors'].str.get(0)\n",
    "dataframe2['journal'] = dataframe2['journal'].str.get(0)\n",
    "dataframe2['year'] = dataframe2['year'].str.get(0)\n",
    "\n",
    "# Get the authors\n",
    "dataframe_temp = dataframe2['authors'].str.extract('(^(.+?)- )')\n",
    "dataframe_temp.drop(dataframe_temp.columns[[0]], axis=1, inplace=True)\n",
    "\n",
    "# Concat the dataframes\n",
    "dataframe2 = pd.concat([dataframe_temp, dataframe2], axis=1)\n",
    "\n",
    "dataframe2.rename(columns={ dataframe2.columns[0]: \"author\" }, inplace = True)\n",
    "dataframe2 = dataframe2.drop('authors', axis=1)\n",
    "\n",
    "dataframe2"
   ]
  },
  {
   "cell_type": "code",
   "execution_count": 4,
   "metadata": {},
   "outputs": [],
   "source": [
    "results3 = []\n",
    "# get number of citations for each paper\n",
    "for paper in soup.find_all(\"div\", class_=\"gs_ri\"):\n",
    "    txt_cite = paper.find(\"div\", class_=\"gs_fl\").find_all(\"a\")[2].string\n",
    "    if txt_cite:\n",
    "        citations = re.findall('[0-9]+', txt_cite)\n",
    "        if citations:\n",
    "            results3.append({\"Number of citation\": citations})\n",
    "        else:\n",
    "            results3.append({\"Number of citation\": 0})\n",
    "    else:\n",
    "        results3.append({\"Number of citation\": 0})\n",
    "dataframe3 = pd.DataFrame(results3)\n",
    "dataframe3['Number of citation'] = dataframe3['Number of citation'].str.get(0)\n"
   ]
  },
  {
   "cell_type": "code",
   "execution_count": 5,
   "metadata": {},
   "outputs": [],
   "source": [
    "# Concat the dataframes and clean the dataset\n",
    "dataframe = pd.concat([dataframe1, dataframe2,dataframe3], axis=1)\n",
    "dataframe.to_csv('Google Scholar - publications', sep='\\t')\n"
   ]
  },
  {
   "cell_type": "code",
   "execution_count": 6,
   "metadata": {},
   "outputs": [],
   "source": [
    "# Extract suggested results\n",
    "results_suggestion = []\n",
    "for entry in soup.find_all(\"div\", attrs={\"class\": \"gs_qsuggest gs_qsuggest_regular\"}):\n",
    "    for item in entry.find_all(\"li\"):\n",
    "        results_suggestion.append({\"suggestion\": item.text})\n",
    "dataframe_suggestion = pd.DataFrame(results_suggestion)\n",
    "dataframe_suggestion.to_csv('Google Scholar - suggestions', sep='\\t')\n"
   ]
  },
  {
   "cell_type": "code",
   "execution_count": null,
   "metadata": {},
   "outputs": [],
   "source": []
  },
  {
   "cell_type": "code",
   "execution_count": null,
   "metadata": {},
   "outputs": [],
   "source": []
  }
 ],
 "metadata": {
  "kernelspec": {
   "display_name": "Python 3.9.5 64-bit",
   "language": "python",
   "name": "python3"
  },
  "language_info": {
   "codemirror_mode": {
    "name": "ipython",
    "version": 3
   },
   "file_extension": ".py",
   "mimetype": "text/x-python",
   "name": "python",
   "nbconvert_exporter": "python",
   "pygments_lexer": "ipython3",
   "version": "3.9.5"
  },
  "orig_nbformat": 4,
  "vscode": {
   "interpreter": {
    "hash": "aee8b7b246df8f9039afb4144a1f6fd8d2ca17a180786b69acc140d282b71a49"
   }
  }
 },
 "nbformat": 4,
 "nbformat_minor": 2
}
